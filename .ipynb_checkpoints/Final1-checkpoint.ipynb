{
  "cells": [
    {
      "cell_type": "raw",
      "metadata": {},
      "source": [
        "---\n",
        "title: \"NYCTaxi\"\n",
        "author: \"김우중(202016217)\"\n",
        "format: dashboard\n",
        "execute: \n",
        "  enabled: true\n",
        "  cache: false\n",
        "  freeze: false\n",
        "---"
      ],
      "id": "5d34d3d3"
    },
    {
      "cell_type": "code",
      "metadata": {},
      "source": [
        "import numpy as np\n",
        "import pandas as pd\n",
        "import plotly.express as px\n",
        "import plotly.io as pio\n",
        "\n",
        "pd.options.plotting.backend = \"plotly\"\n",
        "pio.templates.default = \"plotly_white\"\n",
        "\n",
        "df = pd.read_csv(\"https://raw.githubusercontent.com/guebin/DV2023/main/posts/NYCTaxi.csv\").assign(\n",
        "    log_trip_duration = lambda df: np.log(df.trip_duration),\n",
        "    pickup_datetime = lambda df: df.pickup_datetime.apply(pd.to_datetime),\n",
        "    dropoff_datetime = lambda df: df.dropoff_datetime.apply(pd.to_datetime),\n",
        "    dist = lambda df: np.sqrt((df.pickup_latitude-df.dropoff_latitude)**2 + (df.pickup_longitude-df.dropoff_longitude)**2),\n",
        "    #---#\n",
        "    vendor_id = lambda df: df.vendor_id.map({1:'A',2:'B'})\n",
        ").assign(\n",
        "    speed = lambda df: df.dist / df.trip_duration,\n",
        "    pickup_hour = lambda df: df.pickup_datetime.dt.hour,\n",
        "    dropoff_hour = lambda df: df.dropoff_datetime.dt.hour,\n",
        "    dayofweek = lambda df: df.pickup_datetime.dt.dayofweek\n",
        ")\n",
        "df_small = df[::100].reset_index(drop=True)\n",
        "\n",
        "day_of_week_mapping = {0: '월', 1: '화', 2: '수', 3: '목', 4: '금', 5: '토', 6: '일'}\n",
        "tidydata = df.pivot_table(\n",
        "    index = 'pickup_hour',\n",
        "    columns = 'dayofweek',\n",
        "    values = 'speed',\n",
        "    aggfunc = 'mean'\n",
        ").stack().reset_index().rename({0:'speed_mean'},axis=1)\n",
        "tidydata['dayofweek'] = tidydata['dayofweek'].map(day_of_week_mapping)\n",
        "fig1 = px.density_heatmap(\n",
        "    data_frame=tidydata,\n",
        "    x='pickup_hour',\n",
        "    y='dayofweek',\n",
        "    z='speed_mean',\n",
        "    nbinsx=24,\n",
        "    nbinsy=7,\n",
        "    height=300\n",
        ")\n",
        "fig1 = fig1.update_layout(\n",
        "    xaxis_title='pickup 시간',\n",
        "    yaxis_title='요일',\n",
        "     coloraxis_colorbar_title='평균속력'\n",
        ")"
      ],
      "id": "414b637a",
      "execution_count": null,
      "outputs": []
    },
    {
      "cell_type": "markdown",
      "metadata": {},
      "source": [
        "# 기말고사1-(1),(2)\n"
      ],
      "id": "452f800d"
    },
    {
      "cell_type": "code",
      "metadata": {
        "title": "요일,시간에 따른 평균속력 시각화"
      },
      "source": [
        "fig1.show()"
      ],
      "id": "adaf48f1",
      "execution_count": null,
      "outputs": []
    },
    {
      "cell_type": "code",
      "metadata": {
        "title": "요일,시간에 따른 평균이동거리 시각화"
      },
      "source": [
        "fig2.show()"
      ],
      "id": "e5312abc",
      "execution_count": null,
      "outputs": []
    },
    {
      "cell_type": "markdown",
      "metadata": {},
      "source": [
        "# 기말고사1-(3)\n"
      ],
      "id": "7a14a997"
    },
    {
      "cell_type": "code",
      "metadata": {
        "title": "속력별 경로 시각화"
      },
      "source": [
        "fig3.show()"
      ],
      "id": "58a2c010",
      "execution_count": null,
      "outputs": []
    }
  ],
  "metadata": {
    "kernelspec": {
      "name": "python3",
      "language": "python",
      "display_name": "Python 3 (ipykernel)"
    }
  },
  "nbformat": 4,
  "nbformat_minor": 5
}